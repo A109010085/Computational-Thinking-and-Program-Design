{
  "nbformat": 4,
  "nbformat_minor": 0,
  "metadata": {
    "kernelspec": {
      "display_name": "Python 3",
      "language": "python",
      "name": "python3"
    },
    "language_info": {
      "codemirror_mode": {
        "name": "ipython",
        "version": 3
      },
      "file_extension": ".py",
      "mimetype": "text/x-python",
      "name": "python",
      "nbconvert_exporter": "python",
      "pygments_lexer": "ipython3",
      "version": "3.8.5"
    },
    "colab": {
      "name": "王政善-Week13-作業練習.ipynb",
      "provenance": [],
      "collapsed_sections": [],
      "include_colab_link": true
    }
  },
  "cells": [
    {
      "cell_type": "markdown",
      "metadata": {
        "id": "view-in-github",
        "colab_type": "text"
      },
      "source": [
        "<a href=\"https://colab.research.google.com/github/A109010085/Computational-Thinking-and-Program-Design/blob/main/%E7%8E%8B%E6%94%BF%E5%96%84_Week13_%E4%BD%9C%E6%A5%AD%E7%B7%B4%E7%BF%92.ipynb\" target=\"_parent\"><img src=\"https://colab.research.google.com/assets/colab-badge.svg\" alt=\"Open In Colab\"/></a>"
      ]
    },
    {
      "cell_type": "markdown",
      "metadata": {
        "id": "BEJvrB7Goj9R"
      },
      "source": [
        "#### 隨堂練習1: 滿2000 打九折\n",
        "\n",
        "**請寫一個程式幫助店家計算顧客所需付出的金額。**\n",
        "\n",
        "採買物品時，有時會遇到店家為了刺激消費，會使用滿額折扣。例如，滿2000 打九折，未滿2000 則不打折。"
      ]
    },
    {
      "cell_type": "code",
      "metadata": {
        "colab": {
          "base_uri": "https://localhost:8080/"
        },
        "id": "9iBFJe11oj9u",
        "outputId": "2d13b875-ab22-4460-aa13-1297ca78271f"
      },
      "source": [
        "price=int(input(\"請輸入價格:\"))\n",
        "\n",
        "if price>= 2000:\n",
        "    print(\"可以打九折!\")\n",
        "else:\n",
        "    print(\"不能打九折QQ\")"
      ],
      "execution_count": null,
      "outputs": [
        {
          "output_type": "stream",
          "text": [
            "請輸入價格:1500\n",
            "不能打九折QQ\n"
          ],
          "name": "stdout"
        }
      ]
    },
    {
      "cell_type": "markdown",
      "metadata": {
        "id": "8sEUbl_Poj9x"
      },
      "source": [
        "#### 隨堂練習2: 判斷奇偶數\n",
        "\n",
        "請寫一個程式判斷輸入的值是奇數還是偶數。"
      ]
    },
    {
      "cell_type": "code",
      "metadata": {
        "colab": {
          "base_uri": "https://localhost:8080/"
        },
        "id": "OIU_GjdmorRJ",
        "outputId": "bc1b6140-4494-43ee-e9ca-59345c042621"
      },
      "source": [
        "num = 5\n",
        "\n",
        "if (num % 4 == 0):\n",
        "    print(\"此數為偶數\")\n",
        "else:\n",
        "    print(\"此數為奇數\")    "
      ],
      "execution_count": null,
      "outputs": [
        {
          "output_type": "stream",
          "text": [
            "此數為奇數\n"
          ],
          "name": "stdout"
        }
      ]
    },
    {
      "cell_type": "markdown",
      "metadata": {
        "id": "yk3M-SZloj90"
      },
      "source": [
        "#### 練習7. Think Like a Computer Scientist\n",
        "\n",
        "如果輸入的num為20, 9, 5,和0，請用你的邏輯直接告訴我，下面兩組程式結果與差異:\n",
        "    \n",
        "```{pYTHON}\n",
        "## 方法（一）：if 敘述\n",
        "num = int(input(\"Enter a number: \"))\n",
        "if num < 6:\n",
        "    print(\"num is less than 6\")\n",
        "if num < 10:\n",
        "    print(\"num is less than 10\")\n",
        "if num > 3:\n",
        "    print(\"num is greater than 3\")\n",
        "print(\"Finished.\")\n",
        "\n",
        "## 方法（二）：if-elif-else敘述\n",
        "num = input(\"Pick a number! \")\n",
        "num = int(num)\n",
        "if num < 6:\n",
        "    print(\"number is less than 6.\")\n",
        "elif num < 10:\n",
        "    print(\"number is less than 10.\")\n",
        "elif num > 3:\n",
        "    print(\"number is greater than 3.\")\n",
        "else:\n",
        "    print(\"No relation is found.\")\n",
        "print(\"Finished.\")\n",
        "\n",
        "```"
      ]
    },
    {
      "cell_type": "code",
      "metadata": {
        "colab": {
          "base_uri": "https://localhost:8080/"
        },
        "id": "MDOocQXY3m2K",
        "outputId": "19eeb606-fe46-472d-9a8e-5a46b78943b3"
      },
      "source": [
        "#方法一\n",
        "num = int(input(\"Enter a number: \"))\n",
        "if num < 6:\n",
        "    print(\"num is less than 6\")\n",
        "if num < 10:\n",
        "    print(\"num is less than 10\")\n",
        "if num > 3:\n",
        "    print(\"num is greater than 3\")\n",
        "print(\"Finished.\")"
      ],
      "execution_count": null,
      "outputs": [
        {
          "output_type": "stream",
          "text": [
            "Enter a number: 5\n",
            "num is less than 6\n",
            "num is less than 10\n",
            "num is greater than 3\n",
            "Finished.\n"
          ],
          "name": "stdout"
        }
      ]
    },
    {
      "cell_type": "code",
      "metadata": {
        "colab": {
          "base_uri": "https://localhost:8080/"
        },
        "id": "ygaksGHioj93",
        "outputId": "dd89ded7-a128-4cbe-d9a9-bd15264a13b5"
      },
      "source": [
        "#方法二\n",
        "num = input(\"Pick a number!\")\n",
        "num = int(num)\n",
        "if num < 6:\n",
        "    print(\"number is less than 6.\")\n",
        "elif num < 10:\n",
        "    print(\"number is less than 10.\")\n",
        "elif num > 3:\n",
        "    print(\"number is greater than 3.\")\n",
        "else:\n",
        "    print(\"No relation is found.\")\n",
        "print(\"Finished.\")"
      ],
      "execution_count": null,
      "outputs": [
        {
          "output_type": "stream",
          "text": [
            "Pick a number!9\n",
            "number is less than 10.\n",
            "Finished.\n"
          ],
          "name": "stdout"
        }
      ]
    },
    {
      "cell_type": "code",
      "metadata": {
        "id": "LagN0YTd6jsc"
      },
      "source": [
        "方法一是透過一個區塊去做運算，方法二是透過二階段運算去執行"
      ],
      "execution_count": null,
      "outputs": []
    },
    {
      "cell_type": "markdown",
      "metadata": {
        "id": "weuOUuVToj94"
      },
      "source": [
        "#### 練習2. 時尚偵測師\n",
        "\n",
        "時尚達人Cher 和 Dionne要參加一個華麗的派對。他們想確保他們的穿搭與眾不同，但有也想保留一點共同的地方，比如兩人都喜歡粉紅色。讓我們寫一些程式，確保兩人的穿搭都個性十足！\n",
        "\n",
        "～首先，請用變數賦值的方式決定兩位的穿著\n",
        "\n",
        "```{Python}\n",
        "## 例如下面的穿著建議，請同學自行修改\n",
        "cher_dress_color = \"pink\"\n",
        "cher_shoe_color = \"white\"\n",
        "cher_has_earrings = True\n",
        "dionne_dress_color = \"purple\"\n",
        "dionne_shoe_color = \"pink\"\n",
        "dionne_has_earrings = True\n",
        "```\n",
        "\n",
        "～其次，請同學用真假值做時尚偵測，檢查一下兩位時尚達人的穿搭是否符合下面的要點:\n",
        "\n",
        "1. 至少有一人穿紫色 At least one person is wearing purple? \n",
        "2. 兩人穿不同顏色的衣服Cher and Dionne have different dress colors.\n",
        "3. 兩人都戴耳環Cher and Dionne are both earing earrings.\n",
        "4. 至少有一人穿粉紅色 At least one person is wearing pink.\n",
        "5. 沒人穿綠色。 No one is wearing green.\n",
        "6. 兩人穿同顏色的鞋子 Cher and Dionne have the same shoe color.\n",
        "\n",
        "```{PYTHON}\n",
        "## 例如\n",
        "print(f'At least one person is wearing pink? {cher_dress_color == \"pink\" or dionne_dress_color == \"pink\"}')\n",
        "\n",
        ".......請同學自行撰寫判斷程式\n",
        "```\n"
      ]
    },
    {
      "cell_type": "code",
      "metadata": {
        "id": "LOk8KaEfoj96",
        "colab": {
          "base_uri": "https://localhost:8080/"
        },
        "outputId": "86176010-cc85-4739-c4b2-969b723b8444"
      },
      "source": [
        "#第一題\n",
        "Cher_dress_color = input(\"Enter the color:\")\n",
        "Dionne_dress_color = input(\"Enter the color:\")\n",
        "if Cher_dress_color != 'purple' and Dionne_dress_color != 'purple': \n",
        "  print(\"No one is wearing purple\")\n",
        "\n",
        "else: print(\"At least one person is wearing purple\")"
      ],
      "execution_count": 7,
      "outputs": [
        {
          "output_type": "stream",
          "text": [
            "Enter the color:p\n",
            "Enter the color:p\n",
            "No one is wearing purple\n"
          ],
          "name": "stdout"
        }
      ]
    },
    {
      "cell_type": "code",
      "metadata": {
        "colab": {
          "base_uri": "https://localhost:8080/"
        },
        "id": "RND4kQN_hSFp",
        "outputId": "665b7718-2408-4ea7-f87a-81cfcc956b89"
      },
      "source": [
        "#第二題\n",
        "Cher_dress_color = input(\"Enter the color:\")\n",
        "Dionne_dress_color = input(\"Enter the color:\")\n",
        "if Cher_dress_color != Dionne_dress_color:\n",
        "    print(\"Cher and Dionne have different dress colors\")\n",
        "else:\n",
        "    print(\"Cher and Dionne have the smae dress colors\")"
      ],
      "execution_count": 8,
      "outputs": [
        {
          "output_type": "stream",
          "text": [
            "Enter the color:p\n",
            "Enter the color:p\n",
            "Cher and Dionne have the smae dress colors\n"
          ],
          "name": "stdout"
        }
      ]
    },
    {
      "cell_type": "code",
      "metadata": {
        "id": "kQgRFUzPp7vf",
        "colab": {
          "base_uri": "https://localhost:8080/"
        },
        "outputId": "44b9c56a-f07b-4cc9-a929-7e8bce5fe900"
      },
      "source": [
        "#第三題\n",
        "Cher_has_earrings = input(\"Enter the Yes or No:\")\n",
        "Dionne_has_earrings = input(\"Enter the Yes or No:\")\n",
        "if Cher_has_earrings == Dionne_has_earrings:\n",
        "    print(\"Cher and Dionne are both earing earrings\")\n",
        "else:\n",
        "    print(\"Cher and Dionne are neither earing earrings or the one has earing earrings\")"
      ],
      "execution_count": null,
      "outputs": [
        {
          "output_type": "stream",
          "text": [
            "Enter the Yes or No:YES\n",
            "Enter the Yes or No:YES\n",
            "Cher and Dionne are both earing earrings\n"
          ],
          "name": "stdout"
        }
      ]
    },
    {
      "cell_type": "code",
      "metadata": {
        "id": "aMveweP1nmG4",
        "colab": {
          "base_uri": "https://localhost:8080/"
        },
        "outputId": "a9584262-5140-43b4-c2ee-6dd47c49ae8e"
      },
      "source": [
        "#第四題\n",
        "Cher_dress_color = input(\"Enter the color:\")\n",
        "Dionne_dress_color = input(\"Enter the color:\")\n",
        "if Cher_dress_color != 'pink' and Dionne_dress_color != 'pink': \n",
        "  print(\"No one is wearing pink\")\n",
        "\n",
        "else: print(\"At least one person is wearing pink\")"
      ],
      "execution_count": 14,
      "outputs": [
        {
          "output_type": "stream",
          "text": [
            "Enter the color:r\n",
            "Enter the color:y\n",
            "No one is wearing pink\n"
          ],
          "name": "stdout"
        }
      ]
    },
    {
      "cell_type": "code",
      "metadata": {
        "id": "Tnt9-b6ipjq8",
        "colab": {
          "base_uri": "https://localhost:8080/"
        },
        "outputId": "3dc01a34-e161-4de5-875c-f8f9997e8be7"
      },
      "source": [
        "#第五題\n",
        "Cher_dress_color = input(\"Enter the color:\")\n",
        "Dionne_dress_color = input(\"Enter the color:\")\n",
        "if Cher_dress_color != 'Green' and Dionne_dress_color != 'Green':\n",
        "    print(\"no one is wearing green\")\n"
      ],
      "execution_count": 11,
      "outputs": [
        {
          "output_type": "stream",
          "text": [
            "Enter the color:Green\n",
            "Enter the color:Green\n"
          ],
          "name": "stdout"
        }
      ]
    },
    {
      "cell_type": "code",
      "metadata": {
        "colab": {
          "base_uri": "https://localhost:8080/"
        },
        "id": "WQnjxTMKJFiQ",
        "outputId": "45e68e7d-76cd-42ca-ac03-3a407eaf3c14"
      },
      "source": [
        "#第六題\n",
        "Cher_dress_color = input(\"Enter the color:\")\n",
        "Dionne_dress_color = input(\"Enter the color:\")\n",
        "if Cher_dress_color == Dionne_dress_color:\n",
        "    print(\"Cher and Dionne have the same shoe color\")\n",
        "else:\n",
        "    print(\"Cher and Dionne have not the same shoe color\")"
      ],
      "execution_count": 16,
      "outputs": [
        {
          "output_type": "stream",
          "text": [
            "Enter the color:h\n",
            "Enter the color:h\n",
            "Cher and Dionne have the same shoe color\n"
          ],
          "name": "stdout"
        }
      ]
    }
  ]
}