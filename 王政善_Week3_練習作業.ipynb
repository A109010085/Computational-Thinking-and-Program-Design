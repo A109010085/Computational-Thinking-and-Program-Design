{
  "nbformat": 4,
  "nbformat_minor": 0,
  "metadata": {
    "colab": {
      "name": "「王政善-Week3-練習作業.ipynb」的副本",
      "provenance": [],
      "authorship_tag": "ABX9TyPx/ygfaSBr3tytS16naG9o",
      "include_colab_link": true
    },
    "kernelspec": {
      "name": "python3",
      "display_name": "Python 3"
    }
  },
  "cells": [
    {
      "cell_type": "markdown",
      "metadata": {
        "id": "view-in-github",
        "colab_type": "text"
      },
      "source": [
        "<a href=\"https://colab.research.google.com/github/A109010085/Computational-Thinking-and-Program-Design/blob/main/%E7%8E%8B%E6%94%BF%E5%96%84_Week3_%E7%B7%B4%E7%BF%92%E4%BD%9C%E6%A5%AD.ipynb\" target=\"_parent\"><img src=\"https://colab.research.google.com/assets/colab-badge.svg\" alt=\"Open In Colab\"/></a>"
      ]
    },
    {
      "cell_type": "code",
      "metadata": {
        "colab": {
          "base_uri": "https://localhost:8080/"
        },
        "id": "cWaohpIQfPT9",
        "outputId": "66c978c1-b1d5-40e1-dd51-918bc4384176"
      },
      "source": [
        "print(1+1)"
      ],
      "execution_count": null,
      "outputs": [
        {
          "output_type": "stream",
          "text": [
            "2\n"
          ],
          "name": "stdout"
        }
      ]
    },
    {
      "cell_type": "code",
      "metadata": {
        "colab": {
          "base_uri": "https://localhost:8080/"
        },
        "id": "o8RRvUwdhIul",
        "outputId": "66d89475-4fe2-49b1-f5d6-26a4dd640351"
      },
      "source": [
        "print(\"Hello World\")"
      ],
      "execution_count": null,
      "outputs": [
        {
          "output_type": "stream",
          "text": [
            "Hello World\n"
          ],
          "name": "stdout"
        }
      ]
    },
    {
      "cell_type": "code",
      "metadata": {
        "colab": {
          "base_uri": "https://localhost:8080/"
        },
        "id": "u5n-5nT7hqaD",
        "outputId": "c57c424e-7bee-4661-fe26-65eaeb7f71bd"
      },
      "source": [
        "print(\"Hai Ya\")"
      ],
      "execution_count": null,
      "outputs": [
        {
          "output_type": "stream",
          "text": [
            "Hai Ya\n"
          ],
          "name": "stdout"
        }
      ]
    },
    {
      "cell_type": "markdown",
      "metadata": {
        "id": "H7bQBKIHh8so"
      },
      "source": [
        "第一次作業><"
      ]
    },
    {
      "cell_type": "markdown",
      "metadata": {
        "id": "bduiZPIvh72S"
      },
      "source": [
        ""
      ]
    }
  ]
}