{
  "nbformat": 4,
  "nbformat_minor": 0,
  "metadata": {
    "colab": {
      "name": "王政善-week11-課堂作業.ipynb",
      "provenance": [],
      "authorship_tag": "ABX9TyNz6gLFnIBA0kdruJ/88kK7",
      "include_colab_link": true
    },
    "kernelspec": {
      "name": "python3",
      "display_name": "Python 3"
    },
    "language_info": {
      "name": "python"
    }
  },
  "cells": [
    {
      "cell_type": "markdown",
      "metadata": {
        "id": "view-in-github",
        "colab_type": "text"
      },
      "source": [
        "<a href=\"https://colab.research.google.com/github/A109010085/Computational-Thinking-and-Program-Design/blob/main/%E7%8E%8B%E6%94%BF%E5%96%84_week11_%E8%AA%B2%E5%A0%82%E4%BD%9C%E6%A5%AD.ipynb\" target=\"_parent\"><img src=\"https://colab.research.google.com/assets/colab-badge.svg\" alt=\"Open In Colab\"/></a>"
      ]
    },
    {
      "cell_type": "code",
      "metadata": {
        "id": "z16sDAxat8OI",
        "colab": {
          "base_uri": "https://localhost:8080/"
        },
        "outputId": "e5cfb66f-d0e6-4d27-c301-4e38dc485cc7"
      },
      "source": [
        "#打招呼，取得對方名字\n",
        "print(\"嘿!你好啊。\")\n",
        "name=input(\"請問大名是:\")\n",
        "print(f\"{name},很高興認識你。\")\n",
        "\n",
        "#數學運算\n",
        "#1從使用者取得今年年份\n",
        "民國=input(\"今年是西元2021年，請問是民國幾年呢?\")\n",
        "print(\"對!沒錯，謝謝你!\")\n",
        "#2請試用者猜年齡\n",
        "年紀 =int(input(f\"{name},猜猜看我今年幾歲?\"))\n",
        "print(\"哇!你好聰明，我今年的確\",年紀)\n",
        "#3計算機器人滿100歲的年份\n",
        "民國=int(民國)\n",
        "年紀=int(年紀)\n",
        "print(f\"再{100-年紀}年我就100歲了\")\n",
        "nyears=民國+(100-年紀)+1911\n",
        "print(f\"那時候是西元{nyears}年,也就是民國{nyears-1911}年。\")\n",
        "\n",
        "#興趣\n",
        "#食物話題\n",
        "print(\"我喜歡酸梅子，最喜歡這種酸酸的食物了。\")\n",
        "食物=input(\"你喜歡什麼食物呢?\")\n",
        "print(\"喔真的假的!我也喜歡\",食物)\n",
        "問題=\"你多久吃一次\"+食物+\"?: \"\n",
        "多久=input(問題)\n",
        "print(\"真有趣!不知道這樣對健康好不好。\")\n",
        "\n",
        "#動物話題\n",
        "動物=input(\"我最喜歡的動物是獅子，你呢?: \")\n",
        "print(\"我不喜歡\",動物)\n",
        "print(f\"不知道{動物}喜不喜歡{食物}。\")\n",
        "\n",
        "#心情話題\n",
        "心情=input(\"你今天心情如何?: \")\n",
        "print(\"可以告訴我，你\",心情,\"的原因嗎。\")\n",
        "原因=input(\"為什麼: \")\n",
        "print(\"原來如此，我知道原因了。\")\n",
        "\n",
        "#道別\n",
        "print(\"有點累了，今天就先聊到這邊啦!\")\n",
        "print(\"很感謝你今天跟我分享這些事情。\")\n",
        "print(\"希望下次我們還能聊，祝你周末愉快。\")\n",
        "print(f\"{name}，再見\")"
      ],
      "execution_count": null,
      "outputs": [
        {
          "output_type": "stream",
          "text": [
            "嘿!你好啊。\n",
            "請問大名是:JAY\n",
            "JAY,很高興認識你。\n",
            "今年是西元2021年，請問是民國幾年呢?110\n",
            "對!沒錯，謝謝你!\n",
            "JAY,猜猜看我今年幾歲?25\n",
            "哇!你好聰明，我今年的確 25\n",
            "再75年我就100歲了\n",
            "那時候是西元2096年,也就是民國185年。\n",
            "我喜歡酸梅子，最喜歡這種酸酸的食物了。\n",
            "你喜歡什麼食物呢?咖哩\n",
            "喔真的假的!我也喜歡 咖哩\n",
            "你多久吃一次咖哩?: 一個禮拜一次\n",
            "真有趣!不知道這樣對健康好不好。\n",
            "我最喜歡的動物是獅子，你呢?: 螞蟻\n",
            "我不喜歡 螞蟻\n",
            "不知道螞蟻喜不喜歡咖哩。\n",
            "你今天心情如何?: 很好\n",
            "可以告訴我，你 很好 的原因嗎。\n",
            "為什麼: 1\n",
            "原來如此，我知道原因了。\n",
            "有點累了，今天就先聊到這邊啦!\n",
            "很感謝你今天跟我分享這些事情。\n",
            "希望下次我們還能聊，祝你周末愉快。\n",
            "JAY，再見\n"
          ],
          "name": "stdout"
        }
      ]
    }
  ]
}