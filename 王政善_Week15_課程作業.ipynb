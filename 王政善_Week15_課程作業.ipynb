{
  "nbformat": 4,
  "nbformat_minor": 0,
  "metadata": {
    "colab": {
      "name": "王政善_Week15_課程作業.ipynb",
      "provenance": [],
      "collapsed_sections": [],
      "authorship_tag": "ABX9TyNCYOSuLu/M2HyqpJG3wmk/",
      "include_colab_link": true
    },
    "kernelspec": {
      "name": "python3",
      "display_name": "Python 3"
    },
    "language_info": {
      "name": "python"
    }
  },
  "cells": [
    {
      "cell_type": "markdown",
      "metadata": {
        "id": "view-in-github",
        "colab_type": "text"
      },
      "source": [
        "<a href=\"https://colab.research.google.com/github/A109010085/Computational-Thinking-and-Program-Design/blob/main/%E7%8E%8B%E6%94%BF%E5%96%84_Week15_%E8%AA%B2%E7%A8%8B%E4%BD%9C%E6%A5%AD.ipynb\" target=\"_parent\"><img src=\"https://colab.research.google.com/assets/colab-badge.svg\" alt=\"Open In Colab\"/></a>"
      ]
    },
    {
      "cell_type": "code",
      "metadata": {
        "colab": {
          "base_uri": "https://localhost:8080/"
        },
        "id": "4BESLKK2L_Xe",
        "outputId": "f608e10f-4821-4409-dd3c-0336dadee96d"
      },
      "source": [
        "my = int(input(\"請出拳[0]剪刀[1]石頭[2]布\"))\n",
        "print(\"我的出拳為\",my)\n",
        "\n",
        "import random\n",
        "computer = random.randint(0,2)\n",
        "print(\"電腦出拳為\",computer)\n",
        "\n",
        "if my == 0:\n",
        "    if computer == 0:\n",
        "        print(\"平手\")\n",
        "    elif computer == 1:\n",
        "        print(\"輸了Q\")\n",
        "    else:\n",
        "        print(\"耶!贏了\")\n",
        "elif my == 1:\n",
        "    if computer == 0:\n",
        "        print(\"耶!贏了\")\n",
        "    elif computer == 1:\n",
        "        print(\"平手\")\n",
        "    else:\n",
        "        print(\"輸了Q\")\n",
        "else:\n",
        "    if computer == 0:\n",
        "        print(\"輸了Q\")\n",
        "    elif computer == 1:\n",
        "        print(\"平手\")\n",
        "    else:\n",
        "        print(\"耶!贏了\")"
      ],
      "execution_count": 11,
      "outputs": [
        {
          "output_type": "stream",
          "text": [
            "請出拳[0]剪刀[1]石頭[2]布1\n",
            "我的出拳為 1\n",
            "電腦出拳為 0\n",
            "耶!贏了\n"
          ],
          "name": "stdout"
        }
      ]
    },
    {
      "cell_type": "code",
      "metadata": {
        "id": "NFLzTJCKUFT_"
      },
      "source": [
        ""
      ],
      "execution_count": null,
      "outputs": []
    }
  ]
}